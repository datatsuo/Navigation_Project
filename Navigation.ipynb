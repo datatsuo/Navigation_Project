{
 "cells": [
  {
   "cell_type": "markdown",
   "metadata": {},
   "source": [
    "# Navigation\n",
    "\n",
    "---\n",
    "\n",
    "In this notebook, you will learn how to use the Unity ML-Agents environment for the first project of the [Deep Reinforcement Learning Nanodegree](https://www.udacity.com/course/deep-reinforcement-learning-nanodegree--nd893).\n",
    "\n",
    "### 1. Start the Environment\n",
    "\n",
    "We begin by importing some necessary packages.  If the code cell below returns an error, please revisit the project instructions to double-check that you have installed [Unity ML-Agents](https://github.com/Unity-Technologies/ml-agents/blob/master/docs/Installation.md) and [NumPy](http://www.numpy.org/)."
   ]
  },
  {
   "cell_type": "code",
   "execution_count": 1,
   "metadata": {
    "collapsed": true
   },
   "outputs": [],
   "source": [
    "from unityagents import UnityEnvironment\n",
    "import numpy as np"
   ]
  },
  {
   "cell_type": "markdown",
   "metadata": {},
   "source": [
    "Next, we will start the environment!  **_Before running the code cell below_**, change the `file_name` parameter to match the location of the Unity environment that you downloaded.\n",
    "\n",
    "- **Mac**: `\"path/to/Banana.app\"`\n",
    "- **Windows** (x86): `\"path/to/Banana_Windows_x86/Banana.exe\"`\n",
    "- **Windows** (x86_64): `\"path/to/Banana_Windows_x86_64/Banana.exe\"`\n",
    "- **Linux** (x86): `\"path/to/Banana_Linux/Banana.x86\"`\n",
    "- **Linux** (x86_64): `\"path/to/Banana_Linux/Banana.x86_64\"`\n",
    "- **Linux** (x86, headless): `\"path/to/Banana_Linux_NoVis/Banana.x86\"`\n",
    "- **Linux** (x86_64, headless): `\"path/to/Banana_Linux_NoVis/Banana.x86_64\"`\n",
    "\n",
    "For instance, if you are using a Mac, then you downloaded `Banana.app`.  If this file is in the same folder as the notebook, then the line below should appear as follows:\n",
    "```\n",
    "env = UnityEnvironment(file_name=\"Banana.app\")\n",
    "```"
   ]
  },
  {
   "cell_type": "code",
   "execution_count": 2,
   "metadata": {},
   "outputs": [
    {
     "name": "stderr",
     "output_type": "stream",
     "text": [
      "INFO:unityagents:\n",
      "'Academy' started successfully!\n",
      "Unity Academy name: Academy\n",
      "        Number of Brains: 1\n",
      "        Number of External Brains : 1\n",
      "        Lesson number : 0\n",
      "        Reset Parameters :\n",
      "\t\t\n",
      "Unity brain name: BananaBrain\n",
      "        Number of Visual Observations (per agent): 0\n",
      "        Vector Observation space type: continuous\n",
      "        Vector Observation space size (per agent): 37\n",
      "        Number of stacked Vector Observation: 1\n",
      "        Vector Action space type: discrete\n",
      "        Vector Action space size (per agent): 4\n",
      "        Vector Action descriptions: , , , \n"
     ]
    }
   ],
   "source": [
    "env = UnityEnvironment(file_name=\"Banana.app\", seed = 123)\n",
    "# env = UnityEnvironment(file_name=\"Banana_Linux/Banana.x86_64\", seed = 123)"
   ]
  },
  {
   "cell_type": "markdown",
   "metadata": {},
   "source": [
    "Environments contain **_brains_** which are responsible for deciding the actions of their associated agents. Here we check for the first brain available, and set it as the default brain we will be controlling from Python."
   ]
  },
  {
   "cell_type": "code",
   "execution_count": 3,
   "metadata": {
    "collapsed": true
   },
   "outputs": [],
   "source": [
    "# get the default brain\n",
    "brain_name = env.brain_names[0]\n",
    "brain = env.brains[brain_name]"
   ]
  },
  {
   "cell_type": "markdown",
   "metadata": {},
   "source": [
    "### 2. Examine the State and Action Spaces\n",
    "\n",
    "The simulation contains a single agent that navigates a large environment.  At each time step, it has four actions at its disposal:\n",
    "- `0` - walk forward \n",
    "- `1` - walk backward\n",
    "- `2` - turn left\n",
    "- `3` - turn right\n",
    "\n",
    "The state space has `37` dimensions and contains the agent's velocity, along with ray-based perception of objects around agent's forward direction.  A reward of `+1` is provided for collecting a yellow banana, and a reward of `-1` is provided for collecting a blue banana. \n",
    "\n",
    "Run the code cell below to print some information about the environment."
   ]
  },
  {
   "cell_type": "code",
   "execution_count": 4,
   "metadata": {},
   "outputs": [
    {
     "name": "stdout",
     "output_type": "stream",
     "text": [
      "Number of agents: 1\n",
      "Number of actions: 4\n",
      "States look like: [ 0.          1.          0.          0.          0.34538859  0.          1.\n",
      "  0.          0.          0.59930861  0.          0.          1.          0.\n",
      "  0.02931019  0.          1.          0.          0.          0.34140164\n",
      "  0.          0.          1.          0.          0.05138472  0.          0.\n",
      "  1.          0.          0.29204866  0.          0.          1.          0.\n",
      "  0.29252312  0.          0.        ]\n",
      "States have length: 37\n"
     ]
    }
   ],
   "source": [
    "# reset the environment\n",
    "env_info = env.reset(train_mode=True)[brain_name]\n",
    "\n",
    "# number of agents in the environment\n",
    "print('Number of agents:', len(env_info.agents))\n",
    "\n",
    "# number of actions\n",
    "action_size = brain.vector_action_space_size\n",
    "print('Number of actions:', action_size)\n",
    "\n",
    "# examine the state space \n",
    "state = env_info.vector_observations[0]\n",
    "print('States look like:', state)\n",
    "state_size = len(state)\n",
    "print('States have length:', state_size)"
   ]
  },
  {
   "cell_type": "markdown",
   "metadata": {},
   "source": [
    "### 3. Take Random Actions in the Environment\n",
    "\n",
    "In the next code cell, you will learn how to use the Python API to control the agent and receive feedback from the environment.\n",
    "\n",
    "Once this cell is executed, you will watch the agent's performance, if it selects an action (uniformly) at random with each time step.  A window should pop up that allows you to observe the agent, as it moves through the environment.  \n",
    "\n",
    "Of course, as part of the project, you'll have to change the code so that the agent is able to use its experience to gradually choose better actions when interacting with the environment!"
   ]
  },
  {
   "cell_type": "code",
   "execution_count": 5,
   "metadata": {
    "collapsed": true
   },
   "outputs": [],
   "source": [
    "# env_info = env.reset(train_mode=False)[brain_name] # reset the environment\n",
    "# state = env_info.vector_observations[0]            # get the current state\n",
    "# score = 0                                          # initialize the score\n",
    "# while True:\n",
    "#     action = np.random.randint(action_size)        # select an action\n",
    "#     env_info = env.step(action)[brain_name]        # send the action to the environment\n",
    "#     next_state = env_info.vector_observations[0]   # get the next state\n",
    "#     reward = env_info.rewards[0]                   # get the reward\n",
    "#     done = env_info.local_done[0]                  # see if episode has finished\n",
    "#     score += reward                                # update the score\n",
    "#     state = next_state                             # roll over the state to next time step\n",
    "#     if done:                                       # exit loop if episode finished\n",
    "#         break\n",
    "    \n",
    "# print(\"Score: {}\".format(score))"
   ]
  },
  {
   "cell_type": "markdown",
   "metadata": {},
   "source": [
    "When finished, you can close the environment."
   ]
  },
  {
   "cell_type": "code",
   "execution_count": 6,
   "metadata": {
    "collapsed": true
   },
   "outputs": [],
   "source": [
    "# env.close()"
   ]
  },
  {
   "cell_type": "markdown",
   "metadata": {},
   "source": [
    "### 4. It's Your Turn!\n",
    "\n",
    "Now it's your turn to train your own agent to solve the environment!  When training the environment, set `train_mode=True`, so that the line for resetting the environment looks like the following:\n",
    "```python\n",
    "env_info = env.reset(train_mode=True)[brain_name]\n",
    "```"
   ]
  },
  {
   "cell_type": "code",
   "execution_count": 7,
   "metadata": {
    "collapsed": true
   },
   "outputs": [],
   "source": [
    "# env = UnityEnvironment(file_name=\"Banana.app\")"
   ]
  },
  {
   "cell_type": "code",
   "execution_count": 8,
   "metadata": {
    "collapsed": true
   },
   "outputs": [],
   "source": [
    "from collections import deque\n",
    "import matplotlib.pyplot as plt\n",
    "%matplotlib inline\n",
    "import torch \n",
    "import time\n",
    "\n",
    "from agent_dqn_prioritized import Agent  \n",
    "\n",
    "# retrieve the action_size and state_size \n",
    "env_info = env.reset(train_mode = True)[brain_name]\n",
    "action_size = brain.vector_action_space_size\n",
    "state_size = len(env_info.vector_observations[0])"
   ]
  },
  {
   "cell_type": "code",
   "execution_count": 9,
   "metadata": {
    "collapsed": true
   },
   "outputs": [],
   "source": [
    "### this cell is for training the agent \n",
    "\n",
    "# hyper-parameters for training the model \n",
    "THRESHOLD_SCORE = 18.0 # threshold of score for terminating the training \n",
    "SOLVED_SCORE = 13.0 # threshold for solving the environment\n",
    "DISPLAY_EVERY = 50 # averege score (over last 100 episodes) is displayed every DISPLAY_EVERY episoldes\n",
    "NUM_EPISODES = 1000 # number of episodes for training\n",
    "MAX_T = 1000 # maximum number of time steps for each episode \n",
    "EPS_START = 1.0 # initial value of the epsilon for epsilon-greedy algorithm\n",
    "EPS_END = 0.01 # minimum value of the epsilon for the epsilon-greedy algorithm \n",
    "EPS_DECAY = 0.99 # decay rate of the epsilon for the epsilon-greedy algorithm \n",
    "\n",
    "def train_model(num_episodes, max_t, eps_start, eps_end, eps_decay, \n",
    "                            is_double_Q, is_prioritized, file_name = \"check_point.pth\"):\n",
    "    \"\"\"\n",
    "    This function is for training Q-learning model. \n",
    "    \n",
    "    (input)\n",
    "    - num_episode (int): number of episodes for training \n",
    "    - max_t (int): maximum number of time steps for each episode \n",
    "    - eps_start (float): initial value of the epsilon for epsilon-greedy algorithm \n",
    "    - eps_end (float): minimum value of the epsilon for the epsilon-greedy algorithm \n",
    "    - eps_decay (float): decay rate of the epsilon for the epsilon-greedy algorithm \n",
    "    - is_double_Q (bool): double Q-learning (True) or normal Q-learning (False)\n",
    "    - is_prioritized (bool): prioritized replay buffer (True) or normal replay buffer (False)\n",
    "    \n",
    "    (output)\n",
    "    trained agent, list of raw scores for episodes, list of average scores (over last 100 episodes)  \n",
    "    \n",
    "    \"\"\"\n",
    "    \n",
    "    # build an agent \n",
    "    agent = Agent(state_size, action_size, is_double_Q, is_prioritized, seed = 1)\n",
    "    \n",
    "    scores = [] # for storing final scores of all the episodes\n",
    "    scores_ave = [] # for storing average scores from the last 100 episodes\n",
    "    scores_window = deque(maxlen = 100) # for storing final scores for the last 100 episodes\n",
    "    best_average_score = 0.0 # best average score over the last 100 episodes\n",
    "    best_i_episode = 1 # the episode number in which the best average score is reached\n",
    "    is_solved = False # if the environment has been solved or not \n",
    "    eps = eps_start # set the initial value for the epsilon for the epsilon-greedy algorithm \n",
    "    \n",
    "    print('----- training started! -----')\n",
    "    start_time = time.time() # for measuring the elapsed time \n",
    "    \n",
    "    for i_episode in range(1, num_episodes+1):\n",
    "        \n",
    "        # reset the environment and take an initial state \n",
    "        env_info = env.reset(train_mode = True)[brain_name]\n",
    "        state = env_info.vector_observations[0]\n",
    "        agent.reset()\n",
    "        \n",
    "        # initialize the score for the current episode \n",
    "        score = 0.0\n",
    "        \n",
    "        for t in range(max_t):\n",
    "             \n",
    "            action  = agent.act(state, eps) # choose the action \n",
    "            env_info = env.step(action)[brain_name] # send the action to the environment\n",
    "            reward = env_info.rewards[0] # get the reward \n",
    "            next_state = env_info.vector_observations[0] # get the next state\n",
    "            done = env_info.local_done[0] # see if the episode is done or not       \n",
    "            agent.step(state, action, reward, next_state, done) # update of the agent \n",
    "            score += reward \n",
    "            state = next_state \n",
    "            \n",
    "            if done: # if the episode has ended\n",
    "                break \n",
    "        \n",
    "        # save the score of the current episode to scores and scores_window\n",
    "        scores.append(score)\n",
    "        scores_window.append(score)\n",
    "        \n",
    "        # average score over the last 100 episodes\n",
    "        average_score = np.mean(scores_window) \n",
    "        scores_ave.append(average_score)\n",
    "        \n",
    "        # update the epsilon for the epsilon-greedy\n",
    "        eps = max(eps_end, eps*eps_decay)\n",
    "        # # use the below instead for another way to update the epsilon for the epsilon-greedy algorithm \n",
    "        # eps = eps_end + (eps_start - eps_end)/i_episode\n",
    "\n",
    "        # if the episode is solved or not\n",
    "        if (average_score > SOLVED_SCORE) and (is_solved == False) :\n",
    "            print(\"----- environment solved at episode {} average score: {:.2f} -----\".format(i_episode, average_score))\n",
    "            is_solved = True\n",
    "            \n",
    "        # save the model if the best average score is achieved\n",
    "        if average_score > best_average_score:\n",
    "            best_average_score = average_score\n",
    "            best_i_episode = i_episode\n",
    "            torch.save(agent.qnetwork_local.state_dict(), file_name)\n",
    "            \n",
    "        # display the average score every DISPLAY_EVERY episodes\n",
    "        if i_episode % DISPLAY_EVERY == 0:\n",
    "            \n",
    "            end_time = time.time()\n",
    "            print(\"----- episode {} average score: {:.2f} -----\".format(i_episode, average_score))\n",
    "            # print(\"loss: \", agent.loss.data.cpu().numpy())\n",
    "            print(\"elapsed time: {:.2f}\".format(end_time-start_time))\n",
    "            \n",
    "            # initialize the start time for the next episode    \n",
    "            start_time = time.time()\n",
    "        \n",
    "        # terminate the training if the avarage score becomes above THRESHOLD_SCORE  \n",
    "        if average_score > THRESHOLD_SCORE:\n",
    "            \n",
    "            print('----- training terminated! -----')\n",
    "            print(\"environment terminated at {:d} episode. average score {}\".format((i_episode-DISPLAY_EVERY), average_score))   \n",
    "            \n",
    "            break \n",
    "        \n",
    "    print('----- best average score: {:.2f} at {:d} epsiode -----'.format(best_average_score, best_i_episode))\n",
    "    return agent, scores, scores_ave"
   ]
  },
  {
   "cell_type": "code",
   "execution_count": 10,
   "metadata": {
    "scrolled": true
   },
   "outputs": [
    {
     "name": "stdout",
     "output_type": "stream",
     "text": [
      "----- training started! -----\n",
      "----- episode 50 average score: 0.60 -----\n",
      "elapsed time: 53.54\n",
      "----- episode 100 average score: 2.24 -----\n",
      "elapsed time: 53.93\n",
      "----- episode 150 average score: 6.74 -----\n",
      "elapsed time: 54.25\n",
      "----- episode 200 average score: 10.98 -----\n",
      "elapsed time: 58.51\n",
      "----- episode 250 average score: 12.57 -----\n",
      "elapsed time: 57.12\n",
      "----- environment solved at episode 278 average score: 13.04 -----\n",
      "----- episode 300 average score: 13.64 -----\n",
      "elapsed time: 57.46\n",
      "----- episode 350 average score: 15.25 -----\n",
      "elapsed time: 55.94\n",
      "----- episode 400 average score: 15.27 -----\n",
      "elapsed time: 55.76\n",
      "----- episode 450 average score: 14.68 -----\n",
      "elapsed time: 56.15\n",
      "----- episode 500 average score: 14.96 -----\n",
      "elapsed time: 56.04\n",
      "----- episode 550 average score: 14.94 -----\n",
      "elapsed time: 55.86\n",
      "----- episode 600 average score: 15.49 -----\n",
      "elapsed time: 56.20\n",
      "----- episode 650 average score: 15.47 -----\n",
      "elapsed time: 56.21\n",
      "----- episode 700 average score: 14.97 -----\n",
      "elapsed time: 55.95\n",
      "----- episode 750 average score: 15.73 -----\n",
      "elapsed time: 56.62\n",
      "----- episode 800 average score: 16.05 -----\n",
      "elapsed time: 55.88\n",
      "----- episode 850 average score: 15.38 -----\n",
      "elapsed time: 56.00\n",
      "----- episode 900 average score: 15.15 -----\n",
      "elapsed time: 56.13\n",
      "----- episode 950 average score: 15.94 -----\n",
      "elapsed time: 56.30\n",
      "----- episode 1000 average score: 16.08 -----\n",
      "elapsed time: 56.25\n",
      "----- best average score: 16.31 at 978 epsiode -----\n"
     ]
    }
   ],
   "source": [
    "# train the model (standard Q-learning with standard replay buffer)\n",
    "agent_1, scores_1, scores_ave_1 = train_model(NUM_EPISODES, MAX_T, EPS_START, EPS_END, EPS_DECAY, \n",
    "                                            is_double_Q = False, is_prioritized = False, file_name = \"check_point_1.pth\")"
   ]
  },
  {
   "cell_type": "code",
   "execution_count": 11,
   "metadata": {},
   "outputs": [
    {
     "name": "stdout",
     "output_type": "stream",
     "text": [
      "----- training started! -----\n",
      "----- episode 50 average score: 0.86 -----\n",
      "elapsed time: 57.44\n",
      "----- episode 100 average score: 2.57 -----\n",
      "elapsed time: 58.44\n",
      "----- episode 150 average score: 5.72 -----\n",
      "elapsed time: 59.34\n",
      "----- episode 200 average score: 9.52 -----\n",
      "elapsed time: 59.14\n",
      "----- episode 250 average score: 12.06 -----\n",
      "elapsed time: 59.67\n",
      "----- episode 300 average score: 12.70 -----\n",
      "elapsed time: 59.84\n",
      "----- environment solved at episode 318 average score: 13.02 -----\n",
      "----- episode 350 average score: 13.37 -----\n",
      "elapsed time: 60.26\n",
      "----- episode 400 average score: 13.67 -----\n",
      "elapsed time: 60.38\n",
      "----- episode 450 average score: 13.89 -----\n",
      "elapsed time: 60.29\n",
      "----- episode 500 average score: 14.40 -----\n",
      "elapsed time: 60.49\n",
      "----- episode 550 average score: 14.61 -----\n",
      "elapsed time: 60.43\n",
      "----- episode 600 average score: 15.29 -----\n",
      "elapsed time: 60.49\n",
      "----- episode 650 average score: 15.75 -----\n",
      "elapsed time: 60.59\n",
      "----- episode 700 average score: 15.67 -----\n",
      "elapsed time: 60.52\n",
      "----- episode 750 average score: 15.60 -----\n",
      "elapsed time: 60.56\n",
      "----- episode 800 average score: 14.68 -----\n",
      "elapsed time: 60.60\n",
      "----- episode 850 average score: 15.26 -----\n",
      "elapsed time: 60.74\n",
      "----- episode 900 average score: 16.10 -----\n",
      "elapsed time: 60.67\n",
      "----- episode 950 average score: 15.48 -----\n",
      "elapsed time: 60.69\n",
      "----- episode 1000 average score: 15.69 -----\n",
      "elapsed time: 60.80\n",
      "----- best average score: 16.25 at 897 epsiode -----\n"
     ]
    }
   ],
   "source": [
    "# train the model (double Q-learning with standard replay buffer)\n",
    "agent_2, scores_2, scores_ave_2 = train_model(NUM_EPISODES, MAX_T, EPS_START, EPS_END, EPS_DECAY, \n",
    "                                            is_double_Q = True, is_prioritized = False, file_name = \"check_point_2.pth\")"
   ]
  },
  {
   "cell_type": "code",
   "execution_count": 12,
   "metadata": {
    "scrolled": true
   },
   "outputs": [
    {
     "name": "stdout",
     "output_type": "stream",
     "text": [
      "----- training started! -----\n",
      "----- episode 50 average score: 1.26 -----\n",
      "elapsed time: 64.02\n",
      "----- episode 100 average score: 3.63 -----\n",
      "elapsed time: 78.13\n",
      "----- episode 150 average score: 9.02 -----\n",
      "elapsed time: 92.03\n",
      "----- episode 200 average score: 12.73 -----\n",
      "elapsed time: 110.86\n",
      "----- environment solved at episode 214 average score: 13.03 -----\n",
      "----- episode 250 average score: 13.97 -----\n",
      "elapsed time: 138.84\n",
      "----- episode 300 average score: 14.58 -----\n",
      "elapsed time: 175.10\n",
      "----- episode 350 average score: 14.99 -----\n",
      "elapsed time: 209.26\n",
      "----- episode 400 average score: 15.40 -----\n",
      "elapsed time: 220.76\n",
      "----- episode 450 average score: 15.63 -----\n",
      "elapsed time: 224.71\n",
      "----- episode 500 average score: 15.80 -----\n",
      "elapsed time: 225.68\n",
      "----- episode 550 average score: 15.49 -----\n",
      "elapsed time: 233.61\n",
      "----- episode 600 average score: 15.15 -----\n",
      "elapsed time: 228.10\n",
      "----- episode 650 average score: 15.12 -----\n",
      "elapsed time: 246.66\n",
      "----- episode 700 average score: 15.08 -----\n",
      "elapsed time: 241.03\n",
      "----- episode 750 average score: 14.93 -----\n",
      "elapsed time: 252.75\n",
      "----- episode 800 average score: 15.00 -----\n",
      "elapsed time: 252.64\n",
      "----- episode 850 average score: 15.39 -----\n",
      "elapsed time: 227.17\n",
      "----- episode 900 average score: 15.74 -----\n",
      "elapsed time: 249.32\n",
      "----- episode 950 average score: 15.56 -----\n",
      "elapsed time: 245.83\n",
      "----- episode 1000 average score: 15.20 -----\n",
      "elapsed time: 243.26\n",
      "----- best average score: 15.93 at 432 epsiode -----\n"
     ]
    }
   ],
   "source": [
    "# train the model (Q-learning with prioritized replay buffer)\n",
    "agent_3, scores_3, scores_ave_3 = train_model(NUM_EPISODES, MAX_T, EPS_START, EPS_END, EPS_DECAY, \n",
    "                                            is_double_Q = False, is_prioritized = True, file_name = \"check_point_3.pth\")"
   ]
  },
  {
   "cell_type": "code",
   "execution_count": 13,
   "metadata": {},
   "outputs": [
    {
     "name": "stdout",
     "output_type": "stream",
     "text": [
      "----- training started! -----\n",
      "----- episode 50 average score: 0.38 -----\n",
      "elapsed time: 68.53\n",
      "----- episode 100 average score: 1.62 -----\n",
      "elapsed time: 81.81\n",
      "----- episode 150 average score: 5.84 -----\n",
      "elapsed time: 96.09\n",
      "----- episode 200 average score: 10.04 -----\n",
      "elapsed time: 116.43\n",
      "----- episode 250 average score: 12.68 -----\n",
      "elapsed time: 141.90\n",
      "----- environment solved at episode 262 average score: 13.04 -----\n",
      "----- episode 300 average score: 14.49 -----\n",
      "elapsed time: 176.83\n",
      "----- episode 350 average score: 15.20 -----\n",
      "elapsed time: 212.93\n",
      "----- episode 400 average score: 15.73 -----\n",
      "elapsed time: 224.01\n",
      "----- episode 450 average score: 15.83 -----\n",
      "elapsed time: 224.83\n",
      "----- episode 500 average score: 16.06 -----\n",
      "elapsed time: 231.15\n",
      "----- episode 550 average score: 15.83 -----\n",
      "elapsed time: 225.54\n",
      "----- episode 600 average score: 15.22 -----\n",
      "elapsed time: 226.36\n",
      "----- episode 650 average score: 15.32 -----\n",
      "elapsed time: 227.09\n",
      "----- episode 700 average score: 15.51 -----\n",
      "elapsed time: 228.07\n",
      "----- episode 750 average score: 15.88 -----\n",
      "elapsed time: 237.70\n",
      "----- episode 800 average score: 16.01 -----\n",
      "elapsed time: 242.20\n",
      "----- episode 850 average score: 15.27 -----\n",
      "elapsed time: 237.33\n",
      "----- episode 900 average score: 15.06 -----\n",
      "elapsed time: 252.21\n",
      "----- episode 950 average score: 15.18 -----\n",
      "elapsed time: 260.96\n",
      "----- episode 1000 average score: 15.15 -----\n",
      "elapsed time: 260.57\n",
      "----- best average score: 16.33 at 421 epsiode -----\n"
     ]
    }
   ],
   "source": [
    "# train the model (double Q-learning with prioritized replay buffer)\n",
    "agent_4, scores_4, scores_ave_4 = train_model(NUM_EPISODES, MAX_T, EPS_START, EPS_END, EPS_DECAY, \n",
    "                                            is_double_Q = True, is_prioritized = True, file_name = \"check_point_4.pth\")"
   ]
  },
  {
   "cell_type": "code",
   "execution_count": 14,
   "metadata": {},
   "outputs": [
    {
     "data": {
      "image/png": "[encoded data removed]",
      "text/plain": [
       "<matplotlib.figure.Figure at 0x122245a58>"
      ]
     },
     "metadata": {},
     "output_type": "display_data"
    }
   ],
   "source": [
    "### plot the scores\n",
    "fig = plt.figure()\n",
    "ax = fig.add_subplot(111)\n",
    "plt.plot(np.arange(len(scores_1)), scores_1, label=\"DQN\")\n",
    "plt.plot(np.arange(len(scores_2)), scores_2, label=\"double DQN\")\n",
    "plt.plot(np.arange(len(scores_3)), scores_3, label=\"DQN (prioritized)\")\n",
    "plt.plot(np.arange(len(scores_4)), scores_4, label=\"double DQN (prioritized)\")\n",
    "plt.ylabel('score')\n",
    "plt.xlabel('episode #')\n",
    "plt.legend()\n",
    "plt.savefig('scores.eps')\n",
    "plt.show()"
   ]
  },
  {
   "cell_type": "code",
   "execution_count": 15,
   "metadata": {},
   "outputs": [
    {
     "data": {
      "image/png": "[encoded data removed]",
      "text/plain": [
       "<matplotlib.figure.Figure at 0x122245940>"
      ]
     },
     "metadata": {},
     "output_type": "display_data"
    }
   ],
   "source": [
    "### plot the average scores\n",
    "fig = plt.figure()\n",
    "ax = fig.add_subplot(111)\n",
    "plt.plot(np.arange(len(scores_ave_1)), scores_ave_1, label=\"DQN\")\n",
    "plt.plot(np.arange(len(scores_ave_2)), scores_ave_2, label=\"double DQN\")\n",
    "plt.plot(np.arange(len(scores_ave_3)), scores_ave_3, label=\"DQN (prioritized)\")\n",
    "plt.plot(np.arange(len(scores_ave_4)), scores_ave_4, label=\"double DQN (prioritized)\")\n",
    "plt.ylabel('average score')\n",
    "plt.xlabel('episode #')\n",
    "plt.legend()\n",
    "plt.savefig('scores_average.eps')\n",
    "plt.show()"
   ]
  },
  {
   "cell_type": "code",
   "execution_count": 19,
   "metadata": {},
   "outputs": [
    {
     "name": "stdout",
     "output_type": "stream",
     "text": [
      "score: 17.0\n"
     ]
    }
   ],
   "source": [
    "### display the performance of the trained model\n",
    "\n",
    "# reset the environment and take initial state \n",
    "env_info = env.reset(train_mode=False)[brain_name]\n",
    "state = env_info.vector_observations[0]  \n",
    "\n",
    "# some information of the model to load\n",
    "file_name_weights = 'check_point_4.pth'\n",
    "agent = agent_4\n",
    "\n",
    "# load the model with the best score \n",
    "agent.qnetwork_local.load_state_dict(torch.load(file_name_weights))\n",
    "\n",
    "agent.reset()\n",
    "score = 0  # initialize the score\n",
    "while True:\n",
    "    action = agent.act(state, eps =0.0) # choose an action based on the model \n",
    "    env_info = env.step(action)[brain_name] # send the action to the environment\n",
    "    next_state = env_info.vector_observations[0] # get the next state\n",
    "    reward = env_info.rewards[0] # get the reward\n",
    "    done = env_info.local_done[0] # see if episode has finished\n",
    "    \n",
    "    score += reward \n",
    "    state = next_state \n",
    "    \n",
    "    if done:\n",
    "        break\n",
    "    \n",
    "print(\"score: {}\".format(score))"
   ]
  },
  {
   "cell_type": "code",
   "execution_count": 20,
   "metadata": {
    "collapsed": true
   },
   "outputs": [],
   "source": [
    "env.close()"
   ]
  },
  {
   "cell_type": "code",
   "execution_count": null,
   "metadata": {
    "collapsed": true
   },
   "outputs": [],
   "source": []
  }
 ],
 "metadata": {
  "kernelspec": {
   "display_name": "Python 3",
   "language": "python",
   "name": "python3"
  },
  "language_info": {
   "codemirror_mode": {
    "name": "ipython",
    "version": 3
   },
   "file_extension": ".py",
   "mimetype": "text/x-python",
   "name": "python",
   "nbconvert_exporter": "python",
   "pygments_lexer": "ipython3",
   "version": "3.6.3"
  }
 },
 "nbformat": 4,
 "nbformat_minor": 2
}
